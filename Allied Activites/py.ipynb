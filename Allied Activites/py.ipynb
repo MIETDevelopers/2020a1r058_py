{
 "cells": [
  {
   "cell_type": "code",
   "execution_count": 1,
   "id": "b1902263",
   "metadata": {},
   "outputs": [
    {
     "name": "stdout",
     "output_type": "stream",
     "text": [
      "1\n"
     ]
    }
   ],
   "source": [
    "# tuple to print on item\n",
    "item_list = (1,2,3,4,5)\n",
    "print(item_list[0])"
   ]
  },
  {
   "cell_type": "code",
   "execution_count": 3,
   "id": "a89f7541",
   "metadata": {},
   "outputs": [
    {
     "name": "stdout",
     "output_type": "stream",
     "text": [
      "(1, 'One', 3.22)\n"
     ]
    }
   ],
   "source": [
    "# tuple to print on item\n",
    "item_list = (1,\"One\",3.22)\n",
    "print(item_list)"
   ]
  },
  {
   "cell_type": "code",
   "execution_count": 8,
   "id": "ef8b8902",
   "metadata": {},
   "outputs": [
    {
     "ename": "TypeError",
     "evalue": "sorted expected 1 argument, got 9",
     "output_type": "error",
     "traceback": [
      "\u001b[1;31m---------------------------------------------------------------------------\u001b[0m",
      "\u001b[1;31mTypeError\u001b[0m                                 Traceback (most recent call last)",
      "Cell \u001b[1;32mIn [8], line 2\u001b[0m\n\u001b[0;32m      1\u001b[0m \u001b[38;5;66;03m# tuple to print on item\u001b[39;00m\n\u001b[1;32m----> 2\u001b[0m tup_1 \u001b[38;5;241m=\u001b[39m \u001b[38;5;28;43msorted\u001b[39;49m\u001b[43m(\u001b[49m\u001b[38;5;241;43m1\u001b[39;49m\u001b[43m,\u001b[49m\u001b[38;5;241;43m3\u001b[39;49m\u001b[43m,\u001b[49m\u001b[38;5;241;43m2\u001b[39;49m\u001b[43m,\u001b[49m\u001b[38;5;241;43m5\u001b[39;49m\u001b[43m,\u001b[49m\u001b[38;5;241;43m4\u001b[39;49m\u001b[43m,\u001b[49m\u001b[38;5;241;43m7\u001b[39;49m\u001b[43m,\u001b[49m\u001b[38;5;241;43m6\u001b[39;49m\u001b[43m,\u001b[49m\u001b[38;5;241;43m9\u001b[39;49m\u001b[43m,\u001b[49m\u001b[38;5;241;43m8\u001b[39;49m\u001b[43m)\u001b[49m\n\u001b[0;32m      3\u001b[0m \u001b[38;5;66;03m# q = sort(tup_1)\u001b[39;00m\n\u001b[0;32m      4\u001b[0m \u001b[38;5;28mprint\u001b[39m(tup_1)\n",
      "\u001b[1;31mTypeError\u001b[0m: sorted expected 1 argument, got 9"
     ]
    }
   ],
   "source": [
    "# tuple to print on item\n",
    "tup_1 = sorted(1,3,2,5,4,7,6,9,8)\n",
    "# q = sort(tup_1)\n",
    "print(tup_1)\n",
    "tup_2 = (\"Mohan\",45,7.33)\n",
    "tup_3 = tup_1 + tup_2\n",
    "print(tup_3)"
   ]
  },
  {
   "cell_type": "code",
   "execution_count": null,
   "id": "1d39ab47",
   "metadata": {},
   "outputs": [],
   "source": []
  }
 ],
 "metadata": {
  "kernelspec": {
   "display_name": "Python 3 (ipykernel)",
   "language": "python",
   "name": "python3"
  },
  "language_info": {
   "codemirror_mode": {
    "name": "ipython",
    "version": 3
   },
   "file_extension": ".py",
   "mimetype": "text/x-python",
   "name": "python",
   "nbconvert_exporter": "python",
   "pygments_lexer": "ipython3",
   "version": "3.10.6"
  }
 },
 "nbformat": 4,
 "nbformat_minor": 5
}
